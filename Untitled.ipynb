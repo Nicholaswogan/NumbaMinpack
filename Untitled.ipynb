{
 "cells": [
  {
   "cell_type": "code",
   "execution_count": 1,
   "metadata": {},
   "outputs": [],
   "source": [
    "from NumbaMinpack import lmdif, minpack_sig\n",
    "from numba import njit, cfunc\n",
    "import numpy as np"
   ]
  },
  {
   "cell_type": "code",
   "execution_count": 8,
   "metadata": {},
   "outputs": [],
   "source": [
    "@cfunc(minpack_sig)\n",
    "def myfunc(x, fvec, args):\n",
    "    fvec[0] = x[0]**2 - args[0]\n",
    "    fvec[1] = x[1]**2 - args[1]\n",
    "    \n",
    "funcptr = myfunc.address   \n",
    "\n",
    "@njit\n",
    "def test():\n",
    "    x_init = np.array([10.0,10.0])\n",
    "    neqs = 2\n",
    "    args = np.array([30.0,8.0])\n",
    "    sol = lmdif(funcptr, x_init, neqs, args)\n",
    "    return sol"
   ]
  },
  {
   "cell_type": "code",
   "execution_count": 9,
   "metadata": {},
   "outputs": [
    {
     "name": "stdout",
     "output_type": "stream",
     "text": [
      "(array([5.47722558, 2.82842712]), array([0.00000000e+00, 1.77635684e-15]), True, 2)\n"
     ]
    }
   ],
   "source": [
    "sol = test()"
   ]
  },
  {
   "cell_type": "code",
   "execution_count": null,
   "metadata": {},
   "outputs": [],
   "source": []
  }
 ],
 "metadata": {
  "kernelspec": {
   "display_name": "Python 3",
   "language": "python",
   "name": "python3"
  },
  "language_info": {
   "codemirror_mode": {
    "name": "ipython",
    "version": 3
   },
   "file_extension": ".py",
   "mimetype": "text/x-python",
   "name": "python",
   "nbconvert_exporter": "python",
   "pygments_lexer": "ipython3",
   "version": "3.8.5"
  }
 },
 "nbformat": 4,
 "nbformat_minor": 4
}
